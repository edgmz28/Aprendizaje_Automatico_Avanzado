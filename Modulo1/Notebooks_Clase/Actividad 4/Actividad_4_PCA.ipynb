{
 "cells": [
  {
   "cell_type": "markdown",
   "metadata": {},
   "source": [
    "<img style=\"float: left;;\" src='Figures/alinco.png' /></a>\n",
    "\n",
    "# <center> <font color= #000047> Actividad 4: Aprendizaje No supervizado PCA\n",
    "    \n",
    "___"
   ]
  },
  {
   "cell_type": "markdown",
   "metadata": {},
   "source": [
    "<h1> Nombre: </h1>\n",
    "<hr>   "
   ]
  },
  {
   "cell_type": "markdown",
   "metadata": {},
   "source": [
    "Considere el dataset \"iris.csv\" que contiene contiene las medidas de 150 flores que pertenecen a 3 especies diferentes:\n",
    "\n",
    "- Iris-setosa\n",
    "- Iris-versicolor\n",
    "- Iris-virginica\n",
    "\n",
    "La actividad consiste en realizar lo siguiente:\n",
    "\n",
    "> Cargar los datos y eliminar la variable 'especie'.\n",
    "\n",
    "> Estandrizar los datos.\n",
    "\n",
    "> Obtener los obtener los valores propios y vectores propios a partir de la matriz de covarianza (forma manual)..\n",
    "\n",
    "> Seleccionar los valores propios correspondientes a las componentes principales de tal forma que se obtenga arriba del 90% de información.\n",
    "\n",
    "> Proyectar el dataset original sobre el nuevo espacio con dimensión < 4.\n",
    "\n",
    "> Graficar las muestras en el nuevo espacio de dimensión < 4."
   ]
  },
  {
   "cell_type": "code",
   "execution_count": null,
   "metadata": {},
   "outputs": [],
   "source": [
    "import pandas as pd\n",
    "df = pd.read_csv('../Data/iris.data', names=['lng sepalo','anch sepalo','lng petalo','anch petalo','especie'])\n",
    "df"
   ]
  },
  {
   "cell_type": "markdown",
   "metadata": {},
   "source": [
    "\n",
    "<div class=\"alert alert-danger\" style=\"margin: 10px\"><strong>NOTA:</strong> Todas las figuras deben de estar comentadas o descritas.</div>\n"
   ]
  }
 ],
 "metadata": {
  "kernelspec": {
   "display_name": "Python 3",
   "language": "python",
   "name": "python3"
  },
  "language_info": {
   "codemirror_mode": {
    "name": "ipython",
    "version": 3
   },
   "file_extension": ".py",
   "mimetype": "text/x-python",
   "name": "python",
   "nbconvert_exporter": "python",
   "pygments_lexer": "ipython3",
   "version": "3.8.5"
  }
 },
 "nbformat": 4,
 "nbformat_minor": 2
}
