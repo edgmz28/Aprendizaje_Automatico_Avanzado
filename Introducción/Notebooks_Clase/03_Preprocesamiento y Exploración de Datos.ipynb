{
 "cells": [
  {
   "cell_type": "markdown",
   "metadata": {},
   "source": [
    "<img style=\"float: left;;\" src='Figures/alinco.png' /></a>\n",
    "\n",
    "# <center> <font color= #000047> Introducción: Preprocesamiento y Exploración de Datos.</font>\n",
    "    \n",
    "___"
   ]
  },
  {
   "cell_type": "markdown",
   "metadata": {},
   "source": [
    "## Data Mining"
   ]
  },
  {
   "cell_type": "markdown",
   "metadata": {},
   "source": [
    "**Data Mining** es el análisis y exploración, por medios automáticos o semiautomáticos de grandes cantidades de datos para descubrir patrones significativos (útiles) y reglas."
   ]
  },
  {
   "cell_type": "markdown",
   "metadata": {},
   "source": [
    "#### Otras Definiciones"
   ]
  },
  {
   "cell_type": "markdown",
   "metadata": {},
   "source": [
    "- La minería de datos o exploración de datos (es la etapa de análisis de \"Knowledge Discovery in Databases\" o KDD) es un campo de la estadística y las ciencias de la computación referido al proceso que intenta descubrir patrones en grandes volúmenes de conjuntos de datos [(wikipedia.org, 2021)](https://es.wikipedia.org/wiki/Miner%C3%ADa_de_datos)."
   ]
  },
  {
   "cell_type": "markdown",
   "metadata": {},
   "source": [
    "- La Minería de Datos (Data Mining) es considerada un campo interdisciplinario conformado por un conjunto de varias disciplinas como la Estadística, Sistemas de Bases de Datos, Aprendizaje Automático, Visualización y Ciencias de la Información. [(nubecolectiva.com, 2021)](https://blog.nubecolectiva.com/que-es-data-mining-mineria-de-datos-clasificacion-de-los-sistemas-de-data-mining/)."
   ]
  },
  {
   "cell_type": "markdown",
   "metadata": {},
   "source": [
    "### ¿Por que minería de datos?"
   ]
  },
  {
   "cell_type": "markdown",
   "metadata": {},
   "source": [
    "  - Enormes bases de datos pueden ser analizadas mediante la tecnología de data mining.\n",
    "  - Contribuye a la toma de decisiones tácticas y estratégicas para detectar la información clave.\n",
    "  - En su mayoría, los modelos se generan y construyen de manera rápida. El modelado a veces se torna más fácil puesto que muchos algoritmos han sido probados previamente.\n",
    "  - Abre nuevas oportunidades de negocios y ahorra costes a la empresa. "
   ]
  },
  {
   "cell_type": "markdown",
   "metadata": {},
   "source": [
    "## Datos y su Clasificación"
   ]
  },
  {
   "cell_type": "markdown",
   "metadata": {},
   "source": [
    "### ¿Que es un dato?"
   ]
  },
  {
   "cell_type": "markdown",
   "metadata": {},
   "source": [
    "Es una representación simbólica (numérica, alfabética, algorítmica, espacial, etc.) de un atributo o variable cuantitativa o cualitativa. Los datos describen hechos empíricos, sucesos y entidades. Es un valor o referente que recibe el computador por diferentes medios, los datos representan la información que el programador manipula en la construcción de una solución o en el desarrollo de un algoritmo. "
   ]
  },
  {
   "cell_type": "markdown",
   "metadata": {},
   "source": [
    "#### *Jerarquia del conocimiento*\n",
    "<img src=\"Figures/conocimiento.png\">"
   ]
  },
  {
   "cell_type": "markdown",
   "metadata": {},
   "source": [
    "### ¿Que es un conjunto de datos?"
   ]
  },
  {
   "cell_type": "markdown",
   "metadata": {},
   "source": [
    "Tambien conocido cómo dataset es una colección de objetos con sus respectivo atributos."
   ]
  },
  {
   "cell_type": "markdown",
   "metadata": {},
   "source": [
    "- Un **atributo** es una propiedad o característica de un objeto.Ejemplos: color de ojos de una persona, peso, salario anual, etc.\n",
    "- Un atributo también es conocido como variable o característica. Una colección de atributos describe un objeto.\n",
    "- Un **objeto** es también llamado registro, caso, muestra, entidad, o instancia."
   ]
  },
  {
   "cell_type": "markdown",
   "metadata": {},
   "source": [
    "<img src=\"Figures/atributos-valores.png\">"
   ]
  },
  {
   "cell_type": "markdown",
   "metadata": {},
   "source": [
    "### ¿Que tipos de datos se pueden utilizar en la minería de datos?"
   ]
  },
  {
   "cell_type": "markdown",
   "metadata": {},
   "source": [
    "En general existen tres tipos de clasificaciones en las que la información puede estar almacenada\n",
    "\n",
    "- Estructurada\n",
    "- Semi-esctructurada\n",
    "- No estructurada"
   ]
  },
  {
   "cell_type": "markdown",
   "metadata": {},
   "source": [
    "#### **Bases de datos relacional:**\n",
    "\n",
    "Es una colección de relaciones (tablas), donde cada relación contiene atributos (columnas o campos) y tuplas (registros o filas).  Cada tupla representa un objeto que se describe a través de sus atributos y posee un clave única o primaria."
   ]
  },
  {
   "cell_type": "markdown",
   "metadata": {},
   "source": [
    "##### Desde las técnicas de minería de datos se manejan 2 tipos de atributos:\n",
    "- Atributos numéricos: contienen valores enteros o reales.\n",
    "    - Ejemplos: salario, edad\n",
    "- Atributos categóricos o nominales: toman valores en un conjunto finito y preestablecido de categorías.\n",
    "    - Ejemplos: genero, nombre del depto.(gestión, marketing, ventas)"
   ]
  },
  {
   "cell_type": "markdown",
   "metadata": {},
   "source": [
    "*Los siguientes casos entran en la categoría de bases de datos pero cuyo contenido requiere un tratamiento especial.*"
   ]
  },
  {
   "cell_type": "markdown",
   "metadata": {},
   "source": [
    "#### **Bases de datos espaciales:**\n",
    "\n",
    "Mantienen información relacionada a espacios físicos cuyos datos pueden ser geográficos, redes de transporte, información de tráfico, etc., donde la minería de datos podría encontrar patrones que permitan la construcción de nuevos caminos o líneas del metro."
   ]
  },
  {
   "cell_type": "markdown",
   "metadata": {},
   "source": [
    "#### **Bases de datos temporales:** \n",
    "Mantienen información relacionada al tiempo ya sea instantes específicos o intervalos temporales. Aquí la minería de datos podría encontrar tendencias climatológicas."
   ]
  },
  {
   "cell_type": "markdown",
   "metadata": {},
   "source": [
    "#### **Bases de datos documentales:** \n",
    "\n",
    "Pueden poseer datos de los tres tipos (estructurados, semi-estructurados y no estructurados) y donde la minería de datos podría utilizarse para encontrar asociaciones entre contenidos o clasificación de objetos."
   ]
  },
  {
   "cell_type": "markdown",
   "metadata": {},
   "source": [
    "#### **Bases de datos multimedia:**\n",
    "\n",
    "Además de las técnicas de minería de datos se requieren algoritmos de búsqueda eficiente y almacenamiento sobre este tipo de formatos."
   ]
  },
  {
   "cell_type": "markdown",
   "metadata": {},
   "source": [
    "### Tipos de modelos"
   ]
  },
  {
   "cell_type": "markdown",
   "metadata": {},
   "source": [
    "#### **Modelos predictivos**\n",
    "\n",
    "- Un **modelo predictivo:** se entrena (estima) un modelo usando los datos recolectados para hacer predicciones futuras. Nunca es 100% precisa y lo que más importa es el rendimiento del modelo cuando es aplicado a nuevos datos.\n",
    "\n",
    "- Un **modelo descriptivo** sirve para identificar patrones que permiten explorar las propiedades de los datos examinados no para predecir sino para describir futuros datos. Este modelo permite descubrir las características más importantes de la BD"
   ]
  },
  {
   "cell_type": "markdown",
   "metadata": {},
   "source": [
    "### Minería de datos y el proceso de descubrimiento del conocimiento (KDD)\n",
    "\n",
    "Este concepto comprende la limpieza, interpretación y descubrimiento de patrones en la información. Uno de sus pasos reside en la minería de datos.\n",
    "\n",
    "Es un proceso para analizar patrones que responden a tres factores: \n",
    "- Son importantes\n",
    "- Útiles\n",
    "- Entendibles\n",
    "\n"
   ]
  },
  {
   "cell_type": "markdown",
   "metadata": {},
   "source": [
    "Proceso KDD\n",
    "<img src=\"Figures/proceso.png\">"
   ]
  },
  {
   "cell_type": "markdown",
   "metadata": {},
   "source": [
    "#### **Proceso KDD**\n",
    "\n",
    "- Integración de datos: combinar multiples fuentes.\n",
    "- Limpieza de datos: remover ruido e inconsistencia de datos.\n",
    "- Selección de datos: datos relevantes a la tarea de análisis son recuperados a partir de la BD.\n",
    "- Transformación de datos: los datos son transformados a un formato apropiado para minería de datos. \n",
    "- **Minería de datos:** proceso escencial donde métodos inteligentes son aplicados para extraer patrones de datos.\n",
    "- Evaluación: identificar los patrones interesantes representando conocimiento o medidas de interes.\n",
    "- Presentación del conocimiento: tecnicas de visualizacion y representacion del conocimiento son usadas para presenter el conocimiento minado."
   ]
  },
  {
   "cell_type": "markdown",
   "metadata": {},
   "source": [
    "Las primeras fases del KDD determinan que las fasessucesivas sean capaces de extraer conocimiento válido y útil a partir de la información original.\n",
    "\n",
    "Generalmente, la información que se quiere investigarsobre un cierto dominio de la organización seencuentra:\n",
    "- En bases de datos y otras fuentes muy diversas.\n",
    "- El análisis posterior será mucho más sencillo sila fuente es unificada, accesible (interna) y desconectada del trabajo transaccional."
   ]
  },
  {
   "cell_type": "markdown",
   "metadata": {},
   "source": [
    "### Fase de mineríra de datos\n",
    "\n",
    "- Entender el problema que se desea resolver.\n",
    "- Determinar el tipo de modelo a aplicar.\n",
    "    - Predictivo.\n",
    "    - Descriptivo.\n",
    "- Elegir el algoritmo de minería que resuelva la tarea y/o obtenga el modelo.\n",
    "\n",
    "\n",
    "### Tareas en data mining\n",
    "\n",
    "- **Classificacion (Predictiva)**\n",
    "    \n",
    "    Cada instancia pertenece a una clase distinguida por un tipo deatributo. Los demás atributos de la instancia se utilizan para predecir la clase de nuevas instancias.\n",
    "    \n",
    "    *Ejemplo:* \n",
    "    Un oftalmólogo desea determinar cuáles de sus nuevos clientes son candidatos a una cirugía ocular y \n",
    "    cuales no, basado en los resultados de sus clientes anteriores y la evolución de éstos después de la \n",
    "    cirugía. Algunos factores a considerar son el tipo deenfermedad ocular y algunos padecimientos que pueden \n",
    "    afectar la cirugía.\n",
    "    \n",
    "    \n",
    "    \n",
    "- **Regresion (predictiva)**\n",
    "\n",
    "    Consiste en aprender una función real que asigna a cada instancia un valor real, de manera que el objetivo es minimizar el error entre el valor predicho y el valor real.\n",
    "    \n",
    "    *Ejemplo*\n",
    "\n",
    "    Una constructora desea determinar el costo adecuado para los departamentos que va a construir y vender en una determinada zona. Para ello la constructora se puede basar en el costo de las viviendas cercanas a la zona. El modelo ayudaría a predecir el costofactible de sus nuevos deptos.\n",
    "\n",
    "- **Agrupamiento (descriptiva)**\n",
    "\n",
    "    A diferencia de la clasificación, aquí se busca agrupar a los individuos maximizando el grado de similitud entre las instancias de un mismo grupo y minimizando la similitud entre los distintos grupos. Los grupos pueden ser o no disjuntos.\n",
    "    \n",
    "    *Ejemplo*\n",
    "    \n",
    "    Una librería que ofrece sus servicios a través de la red usa el agrupamiento para identificar grupos de clientes en base a sus preferencias de compras que le permita dar un servicio más personalizado. Si un cliente se interesa por un libro, el sistema identifica a que grupo pertenece y le recomienda otros libros.\n",
    "\n",
    "\n",
    "- **Correlacioes (descriptiva)**\n",
    "\n",
    "    Ayudan a determinar el grado de similitud de los valores de dos variables numéricas.  Para medir la correlación se usa el coeficiente de correlación $r$, donde $r∈[−1, 1]$, si $r = 0$ indica que no hay relación entre las variables, $r > 0$ indica que las variables están directamente relacionadas y $r < 0$ indica relacion inversa\n",
    "    \n",
    "    *Ejemplo*\n",
    "    \n",
    "    El departamento de bomberos desea determinar las correlaciones negativas entre el empleo de distintos grosores de protección de material electrico y la frecuencia de incendios.\n",
    "\n",
    "- **Reglas de Asociacion (descriptiva)**\n",
    "    \n",
    "    El objetivo es determinar relaciones no evidentes entre atributoscategóricos. No necesariamente las reglas son del tipo causa-efecto.\n",
    "    \n",
    "    *Ejemplo*\n",
    "    \n",
    "    El ejemplo clásico es el de la cesta de compra para organizar  ́los productos físicamente en el supermercado.\n"
   ]
  },
  {
   "cell_type": "markdown",
   "metadata": {},
   "source": [
    "# <center> <font color= #000047> Taxonomía de los Datos</font>\n"
   ]
  },
  {
   "cell_type": "markdown",
   "metadata": {},
   "source": [
    "Cuando trabajamos con [estadísticas](http://relopezbriega.github.io/tag/estadistica.html), es importante reconocer los diferentes tipos de [datos](https://es.wikipedia.org/wiki/Dato): numéricos ([discretos y continuos](https://es.wikipedia.org/wiki/Variable_discreta_y_variable_continua)), [categóricos](https://en.wikipedia.org/wiki/Categorical_variable) y ordinales. Los [datos](https://es.wikipedia.org/wiki/Dato) no son más que observaciones del mundo en que vivimos, por tanto, los mismos pueden venir en diferentes formas, no solo numérica. Por ejemplo, si le preguntáramos a nuestros amigos ¿cuántas mascotas tienen? nos podrían responder: `0, 1, 2, 4, 3, 8`; esta información por sí misma puede ser útil, pero para nuestro análisis de mascotas, nos podría servir también otro tipo de información, como por ejemplo el *género* de cada uno de nuestros amigos; de esta forma obtendríamos la siguiente información: `hombre, mujer, mujer, mujer, hombre, mujer`. Como vemos, podemos incluir a los [datos](https://es.wikipedia.org/wiki/Dato) dentro de tres categorías fundamentales: [datos cuantitativos](https://es.wikipedia.org/wiki/Cantidad) o numéricos, [datos cualitativos](https://es.wikipedia.org/wiki/Cualidad) o [categóricos](https://en.wikipedia.org/wiki/Categorical_variable) y datos ordinales.\n",
    "\n",
    "### Datos cuantitativos\n",
    "\n",
    "Los [datos cuantitativos](https://es.wikipedia.org/wiki/Cantidad) son representados por números; estos números van a ser significativos si representan la medida o la cantidad observada de cierta característica. Dentro de esta categoría podemos encontrar por ejemplo: cantidades de dólares, cuentas, tamaños, número de empleados, y kilómetros por hora. Con los [datos cuantitativos](https://es.wikipedia.org/wiki/Cantidad), se puede hacer todo tipo de tareas de procesamiento de datos numéricos, tales como sumarlos, calcular promedios, o medir su variabilidad. Asimismo, vamos a poder dividir a los [datos cuantitativos](https://es.wikipedia.org/wiki/Cantidad) en [discretos y continuos](https://es.wikipedia.org/wiki/Variable_discreta_y_variable_continua), dependiendo de los valores potencialmente observables.\n",
    "\n",
    "* Los datos ***discretos*** solo van a poder asumir un valor de una lista de números específicos. Representan ítems que pueden ser *contados*; todos sus posibles valores pueden ser listados. Suele ser relativamente fácil trabajar con este tipo de [dato](https://es.wikipedia.org/wiki/Dato).\n",
    "\n",
    "* Los datos ***continuos*** representan *mediciones*; sus posibles valores no pueden ser contados y sólo pueden ser descritos usando intervalos en la recta de los [números reales](https://es.wikipedia.org/wiki/N%C3%BAmero_real). Por ejemplo, la cantidad de kilómetros recorridos no puede ser medida con exactitud, puede ser que hayamos recorrido 1.7 km o 1.6987 km; en cualquier medida que tomemos del mundo real, siempre pueden haber pequeñas o grandes variaciones. Generalmente, los *datos continuos* se suelen redondear a un número fijo de decimales para facilitar su manipulación.\n",
    "\n",
    "\n",
    "### Datos cualitativos \n",
    "\n",
    "Si los [datos](https://es.wikipedia.org/wiki/Dato) nos dicen en cual de determinadas categorías no numéricas nuestros ítems van a caer, entonces estamos hablando de [datos cualitativos](https://es.wikipedia.org/wiki/Cualidad) o [categóricos](https://en.wikipedia.org/wiki/Categorical_variable); ya que los mismos van a representar determinada *cualidad* que los ítems poseen. Dentro de esta categoría vamos a encontrar [datos](https://es.wikipedia.org/wiki/Dato) como: el sexo de una persona, el estado civil, la ciudad natal, o los tipos de películas que le gustan. Los [datos categóricos](https://en.wikipedia.org/wiki/Categorical_variable) pueden tomar valores numéricos (por ejemplo, \"1\" para indicar \"masculino\" y \"2\" para indicar \"femenino\"), pero esos números no tienen un sentido matemático.\n",
    "\n",
    "### Datos ordinales\n",
    "\n",
    "Una categoría intermedia entre los dos tipos de [datos](https://es.wikipedia.org/wiki/Dato) anteriores, son los *datos ordinales*. En este tipo de [datos](https://es.wikipedia.org/wiki/Dato), va a existir un *orden* significativo, vamos a poder clasificar un primero, segundo, tercero, etc. es decir, que podemos establecer un *ranking* para estos [datos](https://es.wikipedia.org/wiki/Dato), el cual posiblemente luego tenga un rol importante en la etapa de análisis. Los [datos](https://es.wikipedia.org/wiki/Dato) se dividen en categorías, pero los números colocados en cada categoría tienen un significado. Por ejemplo, la calificación de un restaurante en una escala de 0 (bajo) a 5 (más alta) estrellas representa *datos ordinales*. Los *datos ordinales* son a menudo tratados como [datos categóricos](https://en.wikipedia.org/wiki/Categorical_variable), en el sentido que se suelen agrupar y ordenar. Sin embargo, a diferencia de los [datos categóricos](https://en.wikipedia.org/wiki/Categorical_variable), los números sí tienen un significado matemático.\n",
    "\n",
    "En este artículo me voy a centrar en el segundo grupo, los [datos categóricos](https://en.wikipedia.org/wiki/Categorical_variable); veremos como podemos manipular fácilmente con la ayuda de [Python](http://python.org/) estos [datos](https://es.wikipedia.org/wiki/Dato) para poder encontrar *patrones*, *relaciones*, *tendencias* y *excepciones*. "
   ]
  },
  {
   "cell_type": "code",
   "execution_count": null,
   "metadata": {},
   "outputs": [],
   "source": []
  },
  {
   "cell_type": "markdown",
   "metadata": {},
   "source": [
    "## Datos Categóricos y Númericos"
   ]
  },
  {
   "cell_type": "code",
   "execution_count": null,
   "metadata": {},
   "outputs": [],
   "source": []
  },
  {
   "cell_type": "markdown",
   "metadata": {},
   "source": [
    "## Análisis de datos categóricos con Python\n",
    "\n",
    "Para ejemplificar el análisis, vamos a utilizar nuestras habituales librerías científicas [NumPy](http://www.numpy.org/), [Pandas](http://pandas.pydata.org/),  [Matplotlib](http://matplotlib.org/) y [Seaborn](http://stanford.edu/~mwaskom/software/seaborn/). También vamos a utilizar la librería [pydataset](https://github.com/iamaziz/PyDataset), la cual nos facilita cargar los diferentes [dataset](https://es.wikipedia.org/wiki/Conjunto_de_datos) para analizar. \n",
    "\n",
    "La idea es realizar un análisis [estadístico](http://relopezbriega.github.io/tag/estadistica.html) sobre los [datos](https://es.wikipedia.org/wiki/Dato) de los sobrevivientes a la tragedia del [Titanic](https://es.wikipedia.org/wiki/RMS_Titanic).\n",
    "\n",
    "### La tragedia del Titanic\n",
    "\n",
    "El hundimiento del [Titanic](https://es.wikipedia.org/wiki/RMS_Titanic) es uno de los naufragios más infames de la historia. El 15 de abril de 1912, durante su viaje inaugural, el [Titanic](https://es.wikipedia.org/wiki/RMS_Titanic) se hundió después de chocar con un iceberg, matando a miles de personas. Esta tragedia sensacional conmocionó a la comunidad internacional y condujo a mejores normas de seguridad aplicables a los buques. \n",
    "Una de las razones por las que el naufragio dio lugar a semejante cantidad de muertes fue que no había suficientes botes salvavidas para los pasajeros y la tripulación. Aunque hubo algún elemento de suerte involucrada en sobrevivir al hundimiento, algunos grupos de personas tenían más probabilidades de sobrevivir que otros, como las mujeres, los niños y la clase alta.\n",
    "\n",
    "El siguiente [dataset](https://es.wikipedia.org/wiki/Conjunto_de_datos) proporciona información sobre el destino de los pasajeros en el viaje fatal del trasatlántico [Titanic](https://es.wikipedia.org/wiki/RMS_Titanic), que se resume de acuerdo con el nivel económico (clase), el sexo, la edad y la supervivencia."
   ]
  },
  {
   "cell_type": "code",
   "execution_count": null,
   "metadata": {},
   "outputs": [],
   "source": []
  },
  {
   "cell_type": "markdown",
   "metadata": {},
   "source": [
    "El problema con [datos](https://es.wikipedia.org/wiki/Dato) como estos, y en general con la mayoría de las *tablas de [datos](https://es.wikipedia.org/wiki/Dato)*, es que nos presentan mucha información y no nos permiten ver que es lo que realmente sucede o sucedió. Por tanto, deberíamos procesarla de alguna manera para hacernos una imagen de lo que los [datos](https://es.wikipedia.org/wiki/Dato) realmente representan y nos quieren decir; y que mejor manera para hacernos una imagen de algo que utilizar *visualizaciones*. Una buena *visualización de los datos* puede revelar cosas que es probable que no podamos ver en una tabla de números y nos ayudará a pensar con claridad acerca de los patrones y relaciones que pueden estar escondidos en los [datos](https://es.wikipedia.org/wiki/Dato). También nos va a ayudar a encontrar las características y patrones más importantes o los casos que son realmente excepcionales y no deberíamos de encontrar.\n",
    "\n",
    "### Tablas de frecuencia\n",
    "\n",
    "Para *hacernos una imagen* de los [datos](https://es.wikipedia.org/wiki/Dato), lo primero que tenemos que hacer es agruparlos. Al armar diferentes grupos nos vamos acercando a la comprensión de los [datos](https://es.wikipedia.org/wiki/Dato). La idea es ir amontonamos las cosas que parecen ir juntas, para poder ver como se distribuyen a través de las diferentes categorías. Para los [datos categóricos](https://en.wikipedia.org/wiki/Categorical_variable), agrupar es fácil; simplemente debemos contar el número de\n",
    "ítems que corresponden a cada categoría y apilarlos.\n",
    "Una forma en la que podemos agrupar nuestro [dataset](https://es.wikipedia.org/wiki/Conjunto_de_datos) del [Titanic](https://es.wikipedia.org/wiki/RMS_Titanic) es contando las diferentes *clases* de pasajeros. Podemos organizar estos conteos en una *tabla de [frecuencia](https://es.wikipedia.org/wiki/Frecuencia_estad%C3%ADstica)*, que registra los totales y los nombres de las categorías utilizando la función `value_counts` que nos proporciona [Pandas](http://pandas.pydata.org/) del siguiente modo: "
   ]
  },
  {
   "cell_type": "code",
   "execution_count": null,
   "metadata": {},
   "outputs": [],
   "source": [
    "# tabla de frecuencia de clases de pasajeros\n"
   ]
  },
  {
   "cell_type": "markdown",
   "metadata": {},
   "source": [
    "Contar las cantidad de apariciones de cada categoría puede ser útil, pero a veces puede resultar más útil saber la *fracción o proporción* de los [datos](https://es.wikipedia.org/wiki/Dato) de cada categoría, así que podríamos entonces dividir los recuentos por el total de casos para obtener los porcentajes que representa cada categoría. \n",
    "\n",
    "Una *tabla de [frecuencia](https://es.wikipedia.org/wiki/Frecuencia_estad%C3%ADstica) relativa* muestra los porcentajes, en lugar de los recuentos de los valores en cada categoría. Ambos tipos de tablas muestran cómo los\n",
    "casos se distribuyen a través de las categorías. De esta manera, ellas describen la *distribución* de una [variable categórica](https://en.wikipedia.org/wiki/Categorical_variable), ya que enumeran las posibles categorías y nos dicen con qué frecuencia se produce cada una de ellas."
   ]
  },
  {
   "cell_type": "code",
   "execution_count": null,
   "metadata": {},
   "outputs": [],
   "source": [
    "# tabla de frecuencia relativa de pasajeros\n"
   ]
  },
  {
   "cell_type": "markdown",
   "metadata": {},
   "source": [
    "### Gráficos de pastel y barras\n",
    "\n",
    "Ahora que ya conocemos a las *tablas de [frecuencia](https://es.wikipedia.org/wiki/Frecuencia_estad%C3%ADstica)* ya estamos en condiciones de crear visualizaciones que realmente nos den una imagen de los [datos](https://es.wikipedia.org/wiki/Dato), sus propiedades y sus relaciones. En este punto, debemos ser sumamente cuidadosos, ya que una mala visualización puede llegar a distorsionar nuestra comprensión, en lugar de ayudarnos. \n",
    "\n",
    "Dos gráficos útiles que podemos utilizar para representar nuestros [datos](https://es.wikipedia.org/wiki/Dato) son el [gráfico de barras](https://es.wikipedia.org/wiki/Diagrama_de_barras) y el [gráfico de tarta](https://es.wikipedia.org/wiki/Gr%C3%A1fico_circular).\n",
    "\n",
    "#### Gráfico de barras\n",
    "\n",
    "El [gráfico de barras](https://es.wikipedia.org/wiki/Diagrama_de_barras) nos ayuda a darnos una impresión visual más precisa de la distribución de nuestros [datos](https://es.wikipedia.org/wiki/Dato). La altura de cada barra muestra el recuento de su categoría. Los barras tienen el  mismo ancho, por lo que sus alturas determinan sus áreas, y estas áreas son proporcionales a los recuentos en cada categoría. De esta forma, podemos ver fácilmente que había más del doble de pasajeros de tercera clase, que de primera o segunda clase. Los [gráficos de barras](https://es.wikipedia.org/wiki/Diagrama_de_barras) hacen que este tipo de comparaciones sean fáciles y naturales. Veamos como podemos crearlos de forma sencilla utilizando el método `plot` dentro de un `DataFrame` de [Pandas](http://pandas.pydata.org/). "
   ]
  },
  {
   "cell_type": "code",
   "execution_count": null,
   "metadata": {},
   "outputs": [],
   "source": [
    "# Gráfico de barras de pasajeros del Titanic\n"
   ]
  },
  {
   "cell_type": "markdown",
   "metadata": {},
   "source": [
    "Si quisiéramos enfocarnos en la *proporción relativa* de los pasajeros de cada una de las clases, simplemente podemos sustituir a los recuentos con porcentajes y utilizar un *gráfico de barras de frecuencias relativas*."
   ]
  },
  {
   "cell_type": "code",
   "execution_count": null,
   "metadata": {},
   "outputs": [],
   "source": [
    "# gráfico de barras de frecuencias relativas.\n"
   ]
  },
  {
   "cell_type": "markdown",
   "metadata": {},
   "source": [
    "#### Gráfico de pastel\n",
    "\n",
    "El [gráfico de pastel](https://es.wikipedia.org/wiki/Gr%C3%A1fico_circular) muestra el total de casos como un círculo y luego corta este círculo en piezas cuyos tamaños son proporcionales a la fracción que cada categoría representa sobre el total de casos. Los [gráfico de pastel](https://es.wikipedia.org/wiki/Gr%C3%A1fico_circular) dan una impresión rápida de cómo todo un grupo se divide en grupos más pequeños. Lo podríamos graficar del siguiente modo, también utilizando el método `plot`:"
   ]
  },
  {
   "cell_type": "code",
   "execution_count": null,
   "metadata": {},
   "outputs": [],
   "source": [
    "# Gráfico de tarta de pasajeros del Titanic\n"
   ]
  },
  {
   "cell_type": "markdown",
   "metadata": {},
   "source": [
    "Como se puede apreciar, con el [gráfico de tarta](https://es.wikipedia.org/wiki/Gr%C3%A1fico_circular) no es tan fácil determinar que los pasajeros de tercera clase son más que el doble que los de primera clase; tampoco es fácil determinar si hay más pasajeros de primera o de segunda clase. Para este tipo de comparaciones, son mucho más útiles los [gráficos de barras](https://es.wikipedia.org/wiki/Diagrama_de_barras)."
   ]
  },
  {
   "cell_type": "markdown",
   "metadata": {},
   "source": [
    "### Relacionando variables categóricas\n",
    "\n",
    "Al analizar la tragedia del [Titanic](https://es.wikipedia.org/wiki/RMS_Titanic), una de las preguntas que podríamos hacer es ¿existe alguna relación entre la clase de pasajeros y la posibilidad de alcanzar un bote salvavidas y sobrevivir a la tragedia? Para poder responder a esta pregunta, vamos a necesitar analizar a las variables *class* y *survived* de nuestro [dataset](https://es.wikipedia.org/wiki/Conjunto_de_datos) en forma conjunta. Una buena forma de analizar dos [variables categóricas](https://en.wikipedia.org/wiki/Categorical_variable) en forma conjunta, es agrupar los recuentos en una tabla de *doble entrada*; este tipo de tablas se conocen en [estadística](http://relopezbriega.github.io/tag/estadistica.html) con el nombre de [tabla de contingencia](https://es.wikipedia.org/wiki/Tabla_de_contingencia). Veamos como podemos crear esta tabla utilizando la función `crosstab` de [Pandas](http://pandas.pydata.org/). "
   ]
  },
  {
   "cell_type": "code",
   "execution_count": null,
   "metadata": {},
   "outputs": [],
   "source": [
    "# Tabla de contingencia class / survived\n"
   ]
  },
  {
   "cell_type": "markdown",
   "metadata": {},
   "source": [
    "Los márgenes de la tabla, tanto en la derecha y en la parte inferior, nos muestran los totales. La línea inferior de la tabla representa la distribución de [frecuencia](https://es.wikipedia.org/wiki/Frecuencia_estad%C3%ADstica) de la clase de pasajeros. La columna derecha de la tabla es la distribución de [frecuencia](https://es.wikipedia.org/wiki/Frecuencia_estad%C3%ADstica) de la variable supervivencia. \n",
    "Cuando se presenta la información de este modo, cada celda de cada uno de los márgenes de la tabla representa la *distribución marginal* de esa variable en particular. Cada celda nos va a mostrar el recuento para la combinación de los valores de nuestras dos [variables categóricas](https://en.wikipedia.org/wiki/Categorical_variable), en este caso *class* y *survived*.\n",
    "\n",
    "Al igual de como habíamos visto con las *tablas de [frecuencia](https://es.wikipedia.org/wiki/Frecuencia_estad%C3%ADstica)*, también nos podría ser útil representar a las [tablas de contingencia](https://es.wikipedia.org/wiki/Tabla_de_contingencia) con porcentajes relativos; esto lo podríamos realizar utilizando el método `apply` del siguiente modo:"
   ]
  },
  {
   "cell_type": "code",
   "execution_count": null,
   "metadata": {},
   "outputs": [],
   "source": [
    "# tabla de contingencia en porcentajes relativos total\n"
   ]
  },
  {
   "cell_type": "markdown",
   "metadata": {},
   "source": [
    "Con esta tabla podemos ver fácilmente que solo el 37.91% de los pasajeros sobrevivió a la tragedia y que este 37% se compone de la siguiente forma: del total de pasajeros sobrevivió un 15.42% de pasajeros que eran de primera clase, un 8.97% que eran de segunda clase y un 13.52% que eran pasajeros de tercera clase.\n",
    "\n",
    "Volviendo a nuestra pregunta inicial sobre la posibilidad de sobrevivir según la clase de pasajero, podría ser más útil armar la tabla de porcentajes como un porcentaje relativo sobre el total de cada fila, es decir calcular el porcentaje relativo que cada clase tiene sobre haber sobrevivido o no. Esto lo podemos realizar del siguiente modo:"
   ]
  },
  {
   "cell_type": "code",
   "execution_count": null,
   "metadata": {},
   "outputs": [],
   "source": [
    "# tabla de contingencia en porcentajes relativos segun sobreviviente\n"
   ]
  },
  {
   "cell_type": "markdown",
   "metadata": {},
   "source": [
    "Aquí podemos ver que de los pasajeros que sobrevivieron a la tragedia, el 40.68% correspondían a primera clase, el 35.67% a tercera clase y el 23.65% a segunda clase. Por tanto podríamos inferir que los pasajeros de primera clase tenían más posibilidades de sobrevivir. \n",
    "\n",
    "Es más, también podríamos armar la tabla de porcentaje relativos en relación al total de cada clase de pasajero y así podríamos ver que de los pasajeros de primera clase, logró sobrevivir un 62.46%. "
   ]
  },
  {
   "cell_type": "code",
   "execution_count": null,
   "metadata": {},
   "outputs": [],
   "source": [
    "# tabla de contingencia en porcentajes relativos segun clase\n"
   ]
  },
  {
   "cell_type": "markdown",
   "metadata": {},
   "source": [
    "Este último resultado lo podríamos representar visualmente con simples [gráfico de barras](https://es.wikipedia.org/wiki/Diagrama_de_barras) del siguiente modo:"
   ]
  },
  {
   "cell_type": "code",
   "execution_count": null,
   "metadata": {},
   "outputs": [],
   "source": [
    "# Gráfico de barras de sobreviviviente segun clase\n"
   ]
  },
  {
   "cell_type": "code",
   "execution_count": null,
   "metadata": {},
   "outputs": [],
   "source": [
    "# Gráfico de barras de sobreviviviente segun clase\n"
   ]
  },
  {
   "cell_type": "markdown",
   "metadata": {},
   "source": [
    "Estas mismas manipulaciones las podemos realizar para otro tipo de combinación de [variables categóricas](https://en.wikipedia.org/wiki/Categorical_variable), como podría ser el *sexo* o la *edad* de los pasajeros, pero eso ya se los dejo a ustedes para que se entretengan y practiquen un rato.\n"
   ]
  },
  {
   "cell_type": "markdown",
   "metadata": {},
   "source": [
    "# <center> <font color= #000047> Análisis Exploratorio de Datos (EDA) </font>\n"
   ]
  },
  {
   "cell_type": "markdown",
   "metadata": {},
   "source": [
    "### ¿Qué es?\n",
    "\n",
    "Es cuando revisamos por primera vez los datos que nos llegan, por ejemplo un archivo CSV que nos entregan y deberemos intentar comprender **¿de qué se trata?**, vislumbrar posibles patrones y reconociendo distribuciones estadísticas que puedan ser útiles en el futuro.\n",
    "\n",
    "Lo ideal es que tengamos un objetivo que nos hayan *“adjuntado”* con los datos, que indique lo que se quiere conseguir a partir de esos datos. Por ejemplo, nos pasan un excel y nos dicen *“Queremos predecir ventas a 30 días”*, ó *“Clasificar casos malignos/benignos de una enfermedad”*, *“Queremos identificar audiencias que van a realizar re-compra de un producto”*, *“queremos hacer pronóstico de fidelización de clientes/abandonos”*, *“Quiero detectar casos de fraude en mi sistema en tiempo real”*."
   ]
  },
  {
   "cell_type": "markdown",
   "metadata": {},
   "source": [
    "### ¿Que hacer cuando llegar un archivo?\n",
    "\n",
    "- ¿Cuántos registros hay?\n",
    "    - ¿Son demasiado pocos?\n",
    "    - ¿Son muchos y no tenemos Capacidad (CPU+RAM) suficiente para procesarlo?\n",
    "    \n",
    "- ¿Están todas las filas completas ó tenemos campos con valores nulos?\n",
    "    - En caso que haya demasiados nulos: ¿Queda el resto de información inútil?\n",
    "    \n",
    "- ¿Que datos son discretos y cuales continuos?\n",
    "    - Muchas veces sirve obtener el tipo de datos: texto, int, double, float\n",
    "    \n",
    "- Si es un problema de tipo supervisado:\n",
    "    - ¿Cuál es la columna de “salida”? ¿binaria, multiclase?\n",
    "    - ¿Esta balanceado el conjunto salida?\n",
    "    \n",
    "- ¿Cuales parecen ser features importantes? ¿Cuales podemos descartar?\n",
    "\n",
    "- ¿Siguen alguna distribución?\n",
    "\n",
    "- ¿Hay correlación entre features (características)?\n",
    "\n",
    "- En problemas de NLP es frecuente que existan categorías repetidas ó mal tipeadas, ó con mayusculas/minúsculas, singular y plural, por ejemplo “Abogado” y “Abogadas”, “avogado” pertenecerían todos a un mismo conjunto.\n",
    "\n",
    "- ¿Estamos ante un problema dependiente del tiempo? Es decir un TimeSeries.\n",
    "\n",
    "- Si fuera un problema de Visión Artificial: ¿Tenemos suficientes muestras de cada clase y variedad, para poder hacer generalizar un modelo de Machine Learning?\n",
    "\n",
    "- ¿Cuales son los Outliers? (unos pocos datos aislados que difieren drásticamente del resto y “contaminan” ó desvían las distribuciones)\n",
    "    - Podemos eliminarlos? es importante conservarlos?\n",
    "    - son errores de carga o son reales?\n",
    "    \n",
    "- ¿Tenemos posible sesgo de datos? (por ejemplo perjudicar a clases minoritarias por no incluirlas y que el modelo de ML discrimine)"
   ]
  },
  {
   "cell_type": "markdown",
   "metadata": {},
   "source": [
    "## Ejemplo de un EDA"
   ]
  },
  {
   "cell_type": "code",
   "execution_count": null,
   "metadata": {},
   "outputs": [],
   "source": []
  },
  {
   "cell_type": "markdown",
   "metadata": {},
   "source": [
    "## Manejando datos faltantes"
   ]
  },
  {
   "cell_type": "code",
   "execution_count": null,
   "metadata": {},
   "outputs": [],
   "source": []
  },
  {
   "cell_type": "markdown",
   "metadata": {},
   "source": [
    "## Reporte de Calidad de Datos"
   ]
  },
  {
   "cell_type": "code",
   "execution_count": null,
   "metadata": {},
   "outputs": [],
   "source": []
  },
  {
   "cell_type": "markdown",
   "metadata": {},
   "source": [
    "# Limpieza de los datos\n",
    "\n",
    ">La limpieza de datos se refiere a la estandarización de la aparición de los datos. El reto principal es la limpieza de bases de datos de texto, en los que se presentan errores en la escritura de datos, signos de puntuación no deseados, así como la eliminación de dígitos o números erroneos en textos.\n",
    "\n",
    "## Limpiar el dataset\n",
    "\n",
    "- Eliminar símbolos raros\n",
    "- Remover dígitos\n",
    "- Remover espacios en blanco\n",
    "- reemplazar texto\n",
    "- convertir minúsculas/mayúsculas\n"
   ]
  },
  {
   "cell_type": "code",
   "execution_count": null,
   "metadata": {},
   "outputs": [],
   "source": []
  },
  {
   "cell_type": "markdown",
   "metadata": {},
   "source": [
    "### Actividad: En el dataset de accidentes, buscar:\n",
    "\n",
    "1.- Número de accidentes por fecha\n",
    "\n",
    "2.- Número de vehículos accidentados por día\n",
    "\n",
    "3.- Número de accidentados por fecha"
   ]
  },
  {
   "cell_type": "code",
   "execution_count": null,
   "metadata": {},
   "outputs": [],
   "source": []
  }
 ],
 "metadata": {
  "kernelspec": {
   "display_name": "Python 3",
   "language": "python",
   "name": "python3"
  },
  "language_info": {
   "codemirror_mode": {
    "name": "ipython",
    "version": 3
   },
   "file_extension": ".py",
   "mimetype": "text/x-python",
   "name": "python",
   "nbconvert_exporter": "python",
   "pygments_lexer": "ipython3",
   "version": "3.8.5"
  }
 },
 "nbformat": 4,
 "nbformat_minor": 5
}
