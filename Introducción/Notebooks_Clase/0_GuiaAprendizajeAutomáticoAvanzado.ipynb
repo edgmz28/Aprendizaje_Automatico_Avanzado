{
 "cells": [
  {
   "cell_type": "markdown",
   "metadata": {},
   "source": [
    "<img style=\"float: left;;\" src='Figures/alinco.png' /></a>\n",
    "    \n",
    "# <center> <font color= #000047> Aprendizaje Automático Avanzado.</font>"
   ]
  },
  {
   "cell_type": "markdown",
   "metadata": {},
   "source": [
    "___\n",
    "<img style=\"float: right; margin: 0px 0px 15px 15px;\" src=\"https://idavinci.es/wp-content/uploads/2018/12/machinelearning.png\" width=\"500px\" height=\"500px\" />\n",
    "\n",
    "\n",
    "\n",
    "#### <font color= #2E9AFE>  `Viernes (17:00 a 21:00 hrs) Sábados (9:00 a 13:00 hrs)  (Virtual)` </font>\n",
    "\n",
    "- <Strong> Gaddiel Desirena López </Strong>\n",
    "- <Strong> Año </Strong>: 2022\n",
    "- <Strong> Copyright: </Strong> MIT License (Exepto donde se indique lo contrario)\n",
    "\n",
    "- <Strong> Email: </Strong>  <font color=\"blue\"> `gdesirena@gmail.com` </font>\n",
    "___"
   ]
  },
  {
   "cell_type": "markdown",
   "metadata": {},
   "source": [
    "### `Presentación mía`\n",
    "___"
   ]
  },
  {
   "cell_type": "markdown",
   "metadata": {},
   "source": [
    "### `Presentación de ustedes`\n",
    "___"
   ]
  },
  {
   "cell_type": "markdown",
   "metadata": {},
   "source": [
    "### `Algunas reglas de juego`\n",
    "\n",
    "- Deben asistir, mínimo, al 80% de las clases para tener derecho a calificación.\n",
    "- La regla más importante de todas (regla de oro): todas las entregas se realizan a través de la plataforma de ALINNCO los plazos asignados. No se aceptan trabajos fuera de la plataforma ni fuera de plazo. \n",
    "___"
   ]
  },
  {
   "cell_type": "markdown",
   "metadata": {},
   "source": [
    "### `Horario de asesoría`\n",
    "\n",
    "Miércoles 18:00 hrs, otros días: **Escribirme mensaje/correo con anticipación para coordinarnos**\n",
    "___"
   ]
  },
  {
   "cell_type": "markdown",
   "metadata": {},
   "source": [
    "### `Descripción de la asignatura`\n",
    "\n",
    "Una de las ramas de estudio que cada vez esta ganando más popularidad dentro de las [ciencias de la computación](https://es.wikipedia.org/wiki/Ciencias_de_la_computaci%C3%B3n) es el ***aprendizaje automático*** o ***[Machine Learning](https://es.wikipedia.org/wiki/Aprendizaje_autom%C3%A1tico)***. Muchos de los servicios que utilizamos en nuestro día a día como google, gmail, netflix, spotify o amazon se valen de las herramientas que les brinda el [Machine Learning](https://es.wikipedia.org/wiki/Aprendizaje_autom%C3%A1tico) para alcanzar un servicio cada vez más personalizado y lograr así ventajas competitivas sobre sus rivales. \n"
   ]
  },
  {
   "cell_type": "markdown",
   "metadata": {},
   "source": [
    "#### `OBJETIVO GENERAL `\n",
    ">  <p style='text-align: justify;'> Aprender aplicar los conceptos, principios, teorías y modelos relacionados con el área de inteligencia artificial; diseñar y desarrollar sistemas inteligentes y sus aplicaciones; Conocer y comprender las técnicas avanzadas de resolución de problemas de Inteligencia Artificial derivadas de los tres tipos de aprendizaje, y su integración en sistemas de información.</p>\n",
    "\n",
    "#### `OBJETIVOS ESPECÍFICOS`\n",
    "\n",
    "* Comprender con la práctica el funcionamiento de las distintas técnicas de ML.\n",
    "\n",
    "* Aprender a desarrollar prototipos de sistemas inteligentes.\n",
    "\n",
    "* Entender, desde un punto de vista práctico, cómo utilizar ML para darle un **agregado de valor** a los sistemas de información.\n",
    "___"
   ]
  },
  {
   "cell_type": "markdown",
   "metadata": {},
   "source": [
    "### `CONTENIDO TEMÁTICO`"
   ]
  },
  {
   "cell_type": "markdown",
   "metadata": {},
   "source": [
    "\n",
    "`Introducción.` **Introducción al Aprendizaje Supervisado y No Supervisado**\n",
    "\n",
    "1. Introducción. \n",
    "2. Repaso Librerías básicas para Aprendizaje Auntomático en Python.\n",
    "3. Preprocemamiento de Datos.\n",
    "4. Exploración de Datos.\n",
    "    \n",
    "   \n",
    "`Módulo 1.` **Modelos de Aprendizaje No Supervizado.**\n",
    "\n",
    "1. Búsqueda de Patrones (algoritmos de clustering) \n",
    "    - K medias.\n",
    "    - Clustering Jerárquico.\n",
    "\n",
    "2. Reducción de dimensionalidad.\n",
    "    - Reducción de Matrices.\n",
    "    - Análisis Principal de Componentes (PCA).\n",
    "    - Análisis de Discriminantes Lineales.\n",
    "    - Kernel PCA.\n",
    "            \n",
    "\n",
    "`Módulo 2.` **Modelos de Aprendizaje Supervizado.**\n",
    "    \n",
    "1. Equilibrio entre Varianza y Sesgo.\n",
    "    - Validación cruzada.\n",
    "    - Curvas ROC.\n",
    "\n",
    "2. Regresión Lineal, polinomial y Multinomial (Repaso).       \n",
    "\n",
    "3. Regresión Logística (Repaso).       \n",
    "\n",
    "4. K-Vecinos más cercanos (K-NN).\n",
    "\n",
    "5. Máquinas de Vector Soporte (SVM)\n",
    "    - Kernels en SVM\n",
    "\n",
    "6. Clasificación por Randomforest.\n",
    "\n",
    "\n",
    "`Módulo 3.` **Aprendizaje Reforzado**\n",
    "    \n",
    "1. Introducción al Aprendizaje Reforzado.\n",
    "\n",
    "2. Elementos del Aprendizaje Reforzado.\n",
    "    - Política\n",
    "    - Función de Recompensa\n",
    "    - Función de Valor\n",
    "    - Entorno\n",
    "\n",
    "3. Ciclo del Aprendizaje Reforzado\n",
    "    - Definición Formal\n",
    "    - Ecuación de Optimalidad de Bellman"
   ]
  },
  {
   "cell_type": "markdown",
   "metadata": {},
   "source": [
    "### `Evaluación`\n",
    "\n",
    "- Tareas 30%\n",
    "- Actividades 30%\n",
    "- Proyecto Final 40%"
   ]
  },
  {
   "cell_type": "markdown",
   "metadata": {},
   "source": [
    "### `Bibliografía `"
   ]
  },
  {
   "cell_type": "markdown",
   "metadata": {},
   "source": [
    "> \n",
    "```\n",
    "- https://www.python.org/\n",
    "- https://www.kaggle.com/learn\n",
    "- Python for Scientists by Stewart, John M.\n",
    "```\n"
   ]
  },
  {
   "cell_type": "code",
   "execution_count": null,
   "metadata": {},
   "outputs": [],
   "source": []
  }
 ],
 "metadata": {
  "anaconda-cloud": {},
  "kernelspec": {
   "display_name": "Python 3",
   "language": "python",
   "name": "python3"
  },
  "language_info": {
   "codemirror_mode": {
    "name": "ipython",
    "version": 3
   },
   "file_extension": ".py",
   "mimetype": "text/x-python",
   "name": "python",
   "nbconvert_exporter": "python",
   "pygments_lexer": "ipython3",
   "version": "3.8.8"
  }
 },
 "nbformat": 4,
 "nbformat_minor": 1
}
